{
  "nbformat": 4,
  "nbformat_minor": 0,
  "metadata": {
    "colab": {
      "provenance": [],
      "toc_visible": true,
      "authorship_tag": "ABX9TyNQjhk90wTe7FdA15B5zxjh",
      "include_colab_link": true
    },
    "kernelspec": {
      "name": "python3",
      "display_name": "Python 3"
    },
    "language_info": {
      "name": "python"
    }
  },
  "cells": [
    {
      "cell_type": "markdown",
      "metadata": {
        "id": "view-in-github",
        "colab_type": "text"
      },
      "source": [
        "<a href=\"https://colab.research.google.com/github/gannygit/Sanskrit_prosody/blob/main/Sanskrit_prosody_notebook.ipynb\" target=\"_parent\"><img src=\"https://colab.research.google.com/assets/colab-badge.svg\" alt=\"Open In Colab\"/></a>"
      ]
    },
    {
      "cell_type": "markdown",
      "source": [
        "# Prosody analysis in Sanskrit\n",
        "Author: Bhushan Agarwal/ Gannygit\n",
        "\n",
        "This Colab notebook will introduce some concepts in Sanskrit prosody through python. Basic familiarity with python coding as well as Sanskrit phonetics and pronunciation will be beneficial to make the most of this material, although most concepts are briefly explained here to freshen up your memory.\n",
        "\n",
        "Just read through the text, run all code cells, and observe the output."
      ],
      "metadata": {
        "id": "Ci-HLts_5Cp5"
      }
    },
    {
      "cell_type": "markdown",
      "source": [
        "##Indic Scripts Are Syllabic in Nature\n",
        "Almost all Indic languages have syllabic writing systems, and so does Sanskrit. Technically, these writing systems are alphasyllabaries. Each character in Sanskrit, when written in Devanagari or any other regional script, usually represents one syllable. These can be either stand-alone vowels (like अ, इ, ऐ /ಅ, ಇ, ಐ/*a, i, ai*, etc.) or more frequently, a consonant combined with a vowel (like छ, दि, कै/ಛ, ದಿ, ಕೈ/*cha, di, kai*, etc.).\n",
        "\n",
        "The most important point to note here is that any stand-alone consonant character has the inherent vowel अ/ಅ/*a* in it. That means, क/ಕ/*ka* is not just *k*, but rather, *ka*. And this vowel is to be pronounced always. For example, in the word राम/ರಾಮ/*rāma*, the *a* at the end has to be pronounced. This brings us to the other important point about the writing systems: we use a stop symbol (*virāma*) to indicate the absence of the inherent vowel. Thus, क्/ಕ್/*k* denotes just *k*, and not *ka*, and छ्/ಛ/*ch* denotes just *ch*, and not *cha*."
      ],
      "metadata": {
        "id": "cG8fIX1v84go"
      }
    },
    {
      "cell_type": "markdown",
      "source": [
        "##Roman Transliteration\n",
        "Sanskrit is not limited to any one writing system. It can be written with the same precision in several Indic scripts such as Devanagari, Kannada, Malayalam, and Odia, and in any of the numerous Roman transliterations. The [International Alphabet for Sanskrit Transliteration (IAST)](https://en.wikipedia.org/wiki/International_Alphabet_of_Sanskrit_Transliteration) is one of the most common Roman transliteration schemes. It is illustrated here in comparison with the Devanagari and Kannada letters."
      ],
      "metadata": {
        "id": "55HTYbjgMh2f"
      }
    },
    {
      "cell_type": "markdown",
      "source": [
        "| Devanagari | Kannada | IAST |\n",
        "| :- | :- | :- |\n",
        "| Short vowels |  |  |\n",
        "| अ इ उ ऋ ऌ | ಅ ಇ ಉ ಋ ಌ | *a i u ṛ ḷ* |\n",
        "||||\n",
        "| Long vowels |  |  |\n",
        "| आ ई ऊ ॠ | ಆ ಈ ಊ ೠ | *ā ī ū ṝ* |\n",
        "| ए ऐ ओ औ | ಏ ಐ ಓ ಔ | *e ai o au* |\n",
        "||||\n",
        "| Consonants |  |  |\n",
        "| क ख ग घ ङ | ಕ ಖ ಗ ಘ ಙ | *ka kha ga gha ṅa* |\n",
        "| च छ ज झ ञ | ಚ ಛ ಜ ಝ ಞ | *ca cha ja jha ña* |\n",
        "| ट ठ ड ढ ण | ಟ ಠ ಡ ಢ ಣ | *ṭa ṭha ḍa ḍha ṇa* |\n",
        "| त थ द ध न | ತ ಥ ದ ಧ ನ | *ta tha da dha na* |\n",
        "| प फ ब भ म | ಪ ಫ ಬ ಭ ಮ | *pa pha ba bha ma* |\n",
        "| य र ल व | ಯ ರ ಲ ವ | *ya ra la va* |\n",
        "| श ष स | ಶ ಷ ಸ | *śa ṣa sa* |\n",
        "| ह | ಹ | *ha* |\n",
        "||||\n",
        "|Other letters|||\n",
        "| अं अः | ಅಂ ಅಃ | *aṃ aḥ* |\n",
        "||||\n",
        "|Symbols|||\n",
        "|Avagraha|||\n",
        "| ऽ | ಽ | *'* |\n",
        "|Virāma|||\n",
        "| ् | ್ | |\n"
      ],
      "metadata": {
        "id": "qmXFfvNd-OhP"
      }
    },
    {
      "cell_type": "markdown",
      "source": [
        "##Defining Lists"
      ],
      "metadata": {
        "id": "sUH3R1xLTspi"
      }
    },
    {
      "cell_type": "markdown",
      "source": [
        "###Set of all letters $L$\n",
        "For the rest of this notebook, we will use only IAST in code, as it is easier to do analysis in IAST.\n",
        "<br>\n",
        "Let us first define the set of all letters $L$ as a python list `L`."
      ],
      "metadata": {
        "id": "RuPBebK747AH"
      }
    },
    {
      "cell_type": "code",
      "source": [
        "#list of all letters in IAST\n",
        "L = ['a', 'ā', 'i', 'ī', 'u', 'ū', 'ṛ', 'ṝ', 'ḷ',\n",
        "     'e', 'ai', 'o', 'au',\n",
        "     'k', 'kh', 'g', 'gh', 'ṅ',\n",
        "     'c', 'ch', 'j', 'jh', 'ñ',\n",
        "     'ṭ', 'ṭh', 'ḍ', 'ḍh', 'ṇ',\n",
        "     't', 'th', 'd', 'dh', 'n',\n",
        "     'p', 'ph', 'b', 'bh', 'm',\n",
        "     'y', 'r', 'l', 'v',\n",
        "     'ś', 'ṣ', 's',\n",
        "     'h',\n",
        "     'ṃ', 'ḥ']"
      ],
      "metadata": {
        "id": "MRY-WUv37Ick"
      },
      "execution_count": null,
      "outputs": []
    },
    {
      "cell_type": "markdown",
      "source": [
        "###Sets of vowels and consonants\n",
        "Now we will define a few sets as python lists.<br>\n",
        "1. The set of all vowels $V$<br>\n",
        "2. The set of short vowels $V_{short}$<br>\n",
        "3. The set of long vowels $V_{long}$<br>\n",
        "4. The set of all consonants, along with *anusvāra* and *visarga*, $C$"
      ],
      "metadata": {
        "id": "U-uQk7abNoLF"
      }
    },
    {
      "cell_type": "code",
      "source": [
        "#list of all vowels\n",
        "V = ['a', 'ā', 'i', 'ī', 'u', 'ū', 'ṛ', 'ṝ', 'ḷ', 'e', 'ai', 'o', 'au']\n",
        "#list of short vowels\n",
        "Vshort = ['a', 'i', 'u', 'ṛ', 'ḷ']\n",
        "#list of long vowels\n",
        "Vlong = ['ā', 'ī', 'ū', 'ṝ', 'e', 'ai', 'o', 'au']\n",
        "#list of all consonants; anusvāra and visarga (aṃ and aḥ) included in consonants for metrical analysis\n",
        "C = ['k', 'kh', 'g', 'gh', 'ṅ', 'c', 'ch', 'j', 'jh', 'ñ', 'ṭ', 'ṭh', 'ḍ', 'ḍh', 'ṇ', 't', 'th', 'd', 'dh', 'n', 'p', 'ph', 'b', 'bh', 'm', 'y', 'r', 'l', 'v', 'ś', 'ṣ', 's', 'h','ṃ', 'ḥ']"
      ],
      "metadata": {
        "id": "GriraGuyORDf"
      },
      "execution_count": null,
      "outputs": []
    },
    {
      "cell_type": "markdown",
      "source": [
        "##Counting Letters\n",
        "Notice that consonants in the above lists do not contain the inherent vowel '*a*'. This makes it easier to analyse prosody and makes IAST our preferred script. This is because IAST is a true [alphabet](https://en.wikipedia.org/wiki/Alphabet) (which means, each character represents only one phoneme, only one unit of sound), whereas Devanagari and other Indic scripts are [alphasyllabaries](https://en.wikipedia.org/wiki/Abugida) (which is a fancy way of saying that each character contains one vowel and an arbitrary number of consonants; e.g., ऐ/ಐ/*ai* contains one vowel and no consonants, वा/ವಾ/*vā* contains a consonant *v* and a vowel *ā*, and क्र/ಕ್ರ/*kra* contains two consonants *k* and *r*, and a vowel *a*).\n",
        "\n",
        "For our purposes, we define a 'letter' as a phoneme, i.e., a single unit of sound. This means ए/ಏ/*e* has one letter, वै/ವೈ/*vai* has two letters, and क्र/ಕ್ರ/*kra* has three letters.\n",
        "\n",
        "Let us define $L_{w}$ as the set of letters in a word $w$.<br>\n",
        ">For *e*: $L_{w} = \\{e\\}; |L_w| = 1$<br>\n",
        "For *vai*: $L_{w} = \\{v, ai\\}; |L_w| = 2$<br>\n",
        "For *kra*: $L_{w} = \\{k, r, a\\}; |L_w| = 3$\n",
        "<br><br>"
      ],
      "metadata": {
        "id": "QnX929-fOgNp"
      }
    },
    {
      "cell_type": "markdown",
      "source": [
        "##The Rhythm of Short and Long Vowels\n",
        "A long vowel takes almost double the time to pronounce, compared to a short vowel. This is why, the occurrence of short and long vowels in a text affect its rhythmic flow. Therefore, the distinction between short and long vowels is important to analyse the rhythm."
      ],
      "metadata": {
        "id": "Fx3Rl9d9icAf"
      }
    },
    {
      "cell_type": "markdown",
      "source": [
        "##Sample Text\n",
        "We will use words or phrases from the following verse (*Bhagavadgītā* 2.47) as examples:\n",
        "<br><br>\n",
        ">कर्मण्येवाधिकारस्ते मा फलेषु कदाचन।<br>\n",
        ">मा कर्मफलहेतुर्भूर्मा ते सङ्गोऽस्त्वकर्मणि॥<br><br>\n",
        ">ಕರ್ಮಣ್ಯೇವಾಧಿಕಾರಸ್ತೇ ಮಾ ಫಲೇಷು ಕದಾಚನ।<br>\n",
        ">ಮಾ ಕರ್ಮಫಲಹೇತುರ್ಭೂರ್ಮಾ ತೇ ಸಙ್ಗೋಽಸ್ತ್ವಕರ್ಮಣಿ॥<br><br>\n",
        ">*karmaṇyevādhikāraste mā phaleṣu kadācana*।<br>\n",
        ">*mā karmaphalaheturbhūrmā te saṅgo'stvakarmaṇi*॥"
      ],
      "metadata": {
        "id": "ViCGO4zBPlbp"
      }
    },
    {
      "cell_type": "markdown",
      "source": [
        "##Counting Letters"
      ],
      "metadata": {
        "id": "OLZigc3d5GSH"
      }
    },
    {
      "cell_type": "markdown",
      "source": [
        "###Counting using code\n",
        "Let us now count the number of letters in a given text using the `len()` function."
      ],
      "metadata": {
        "id": "W2DyOVBRiPWO"
      }
    },
    {
      "cell_type": "code",
      "source": [
        "text = 'phaleṣu'\n",
        "length = len(text)\n",
        "print('No. of letters in text: ', length)"
      ],
      "metadata": {
        "colab": {
          "base_uri": "https://localhost:8080/"
        },
        "id": "WriT6xCsOfbN",
        "outputId": "7acd4252-c0b3-4e32-9eeb-202fe859a792"
      },
      "execution_count": null,
      "outputs": [
        {
          "output_type": "stream",
          "name": "stdout",
          "text": [
            "No. of letters in text:  7\n"
          ]
        }
      ]
    },
    {
      "cell_type": "markdown",
      "source": [
        "###Counting manually\n",
        "Let us manually count the letters in the above text '*phaleṣu*' to see if this code works.\n",
        ">फलेषु - फ् अ ल् ए ष् उ<br>\n",
        "ಫಲೇಷು - ಫ್ ಅ ಲ್ ಏ ಷ್ ಉ<br>\n",
        "*phaleṣu* - *ph* *a* *l* *e* *ṣ* *u*<br>\n",
        "$L_{w} = \\{ph, a, l, e, \\tiny{\\phantom{n}}^{\\Large s}_{\\Large \\cdot}$$, u\\}; |L_w| = 6$\n",
        "\n",
        "\n",
        "\n",
        "\n",
        "This word contains 3 vowels and 3 consonants, so a total of 6 letters. But our code above says the word contains 7 letters, because it counts '*ph*' as two letters. This is one drawback of using IAST. We have to overcome it by looking up the list of all letters `L` and identifying if any letter in the given word contains two characters."
      ],
      "metadata": {
        "id": "ucHQgcZFWOIl"
      }
    },
    {
      "cell_type": "markdown",
      "source": [
        "###Improving our code\n",
        "To implement this, we iterate over the string of characters in the text, taking two characters at a time and checking the list `L` to see if those two characters make a letter. Note that this works only when *p* and *h* (प् and ह् / ಪ್ and ಹ್) actually form the letter *ph* (फ्/ಫ್), and not when they are merely a combination of the letters *p* and *h* (प्ह् / ಪ್ಹ್). The latter combination doesn't appear in Sanskrit, so our method will work."
      ],
      "metadata": {
        "id": "5Im7HB4apYNw"
      }
    },
    {
      "cell_type": "code",
      "source": [
        "def Lw(word):\n",
        "    \"\"\"\n",
        "    Returns:\n",
        "    list of str: A list of all IAST letters in the word\n",
        "    \"\"\"\n",
        "    letter_list = []\n",
        "    couple = False #tracks if the set of two characters form an IAST letter\n",
        "    for i in range(0, len(word)-1):\n",
        "        if couple:\n",
        "            couple = False\n",
        "            continue\n",
        "        two_letters = word[i:i+2]\n",
        "        couple = two_letters in L\n",
        "        if couple:\n",
        "            letter_list.append(two_letters)\n",
        "        else:\n",
        "            letter_list.append(two_letters[0])\n",
        "    if couple:\n",
        "        return letter_list\n",
        "    else:\n",
        "        letter_list.append(word[-1])\n",
        "        return letter_list\n",
        "\n",
        "print('Letters in text: ', Lw(text))\n",
        "print('No. of letters in text: ', len(Lw(text)))"
      ],
      "metadata": {
        "colab": {
          "base_uri": "https://localhost:8080/"
        },
        "id": "Dj-A8hLdWLUF",
        "outputId": "5c86edc3-fb75-4aeb-bd47-bd8cbb6b2f23"
      },
      "execution_count": null,
      "outputs": [
        {
          "output_type": "stream",
          "name": "stdout",
          "text": [
            "Letters in text:  ['ph', 'a', 'l', 'e', 'ṣ', 'u']\n",
            "No. of letters in text:  6\n"
          ]
        }
      ]
    },
    {
      "cell_type": "markdown",
      "source": [
        "Now we get the correct count of letters. This function returns a set of all letters in a given word as a list."
      ],
      "metadata": {
        "id": "OZZacXcr5NZo"
      }
    },
    {
      "cell_type": "markdown",
      "source": [
        "##Counting Vowels and Consonants"
      ],
      "metadata": {
        "id": "8_XZkk3O5SPc"
      }
    },
    {
      "cell_type": "markdown",
      "source": [
        "###Counting manually\n",
        "We have seen that the set of all letters in the word *phaleṣu* can be defined as<br>\n",
        ">$L_{w} = \\{ph, a, l, e, \\tiny{\\phantom{n}}^{\\Large s}_{\\Large \\cdot}$$, u\\}$<br>\n",
        "\n",
        "Let us define some more sets of letters for this word, which are all subsets of $L_{w}$.\n",
        "The set of all vowels in the word:<br>\n",
        ">$V_{w} = \\{a, e, u\\}$<br>\n",
        "\n",
        "\n",
        "The set of all short vowels in the word:<br>\n",
        ">$V_{short_{w}} = \\{a, u\\}$<br>\n",
        "\n",
        "\n",
        "The set of all long vowels in the word:<br>\n",
        ">$V_{long_{w}} = \\{e\\}$<br>\n",
        "\n",
        "\n",
        "The set of all consonants in the word:<br>\n",
        ">$C_{w} = \\{ph, l, \\tiny{\\phantom{n}}^{\\Large s}_{\\Large \\cdot}$$\\}$"
      ],
      "metadata": {
        "id": "za_JwqJ0agnK"
      }
    },
    {
      "cell_type": "markdown",
      "source": [
        "###Counting using code\n",
        "Let us write functions to find out these sets."
      ],
      "metadata": {
        "id": "9SzseKFU5ap5"
      }
    },
    {
      "cell_type": "code",
      "source": [
        "def Vw(word):\n",
        "    \"\"\"\n",
        "    Returns:\n",
        "    list of str: A list of all IAST vowels in the word\n",
        "    \"\"\"\n",
        "    vowel_list = []\n",
        "    for letter in Lw(word):\n",
        "        if letter in V:\n",
        "            vowel_list.append(letter)\n",
        "    return vowel_list\n",
        "\n",
        "def Vshortw(word):\n",
        "    \"\"\"\n",
        "    Returns:\n",
        "    list of str: A list of all short vowels in the word\n",
        "    \"\"\"\n",
        "    Vshort_list = []\n",
        "    for letter in Lw(word):\n",
        "        if letter in Vshort:\n",
        "            Vshort_list.append(letter)\n",
        "    return Vshort_list\n",
        "\n",
        "def Vlongw(word):\n",
        "    \"\"\"\n",
        "    Returns:\n",
        "    list of str: A list of all long vowels in the word\n",
        "    \"\"\"\n",
        "    Vlong_list = []\n",
        "    for letter in Lw(word):\n",
        "        if letter in Vlong:\n",
        "            Vlong_list.append(letter)\n",
        "    return Vlong_list\n",
        "\n",
        "def Cw(word):\n",
        "    \"\"\"\n",
        "    Returns:\n",
        "    list of str: A list of all consonants in the word\n",
        "    \"\"\"\n",
        "    consonant_list = []\n",
        "    for letter in Lw(word):\n",
        "        if letter in C:\n",
        "            consonant_list.append(letter)\n",
        "    return consonant_list\n",
        "\n",
        "\n",
        "print('Letters in text: ', Lw(text))\n",
        "print('No. of letters in text: ', len(Lw(text)))\n",
        "print('Vowels in text: ', Vw(text))\n",
        "print('No. of vowels in text: ', len(Vw(text)))\n",
        "print('Short vowels in text: ', Vshortw(text))\n",
        "print('No. of short vowels in text: ', len(Vshortw(text)))\n",
        "print('Long vowels in text: ', Vlongw(text))\n",
        "print('No. of long vowels in text: ', len(Vlongw(text)))\n",
        "print('Consonants in text: ', Cw(text))\n",
        "print('No. of consonants in text: ', len(Cw(text)))"
      ],
      "metadata": {
        "colab": {
          "base_uri": "https://localhost:8080/"
        },
        "id": "BK5p68UQYw89",
        "outputId": "8032abc8-4c6a-4c65-c328-ac10b536c5d9"
      },
      "execution_count": null,
      "outputs": [
        {
          "output_type": "stream",
          "name": "stdout",
          "text": [
            "Letters in text:  ['ph', 'a', 'l', 'e', 'ṣ', 'u']\n",
            "No. of letters in text:  6\n",
            "Vowels in text:  ['a', 'e', 'u']\n",
            "No. of vowels in text:  3\n",
            "Short vowels in text:  ['a', 'u']\n",
            "No. of short vowels in text:  2\n",
            "Long vowels in text:  ['e']\n",
            "No. of long vowels in text:  1\n",
            "Consonants in text:  ['ph', 'l', 'ṣ']\n",
            "No. of consonants in text:  3\n"
          ]
        }
      ]
    },
    {
      "cell_type": "markdown",
      "source": [
        "##Syllables"
      ],
      "metadata": {
        "id": "2pSlbWrB5npi"
      }
    },
    {
      "cell_type": "markdown",
      "source": [
        "###Intuition\n",
        "In practice, we rarely find isolated vowels and consonants. As noted earlier, consonants are almost always followed by a vowel sound or another consonant, except at the end of a line. Thus, any word can be broken down into syllables, where each syllable contains exactly one vowel.\n",
        "<br><br>\n",
        "Let us look at our example text and see how we can identify syllables in it. Let us look at individual words from the first half of the first line:\n",
        ">*karmaṇi eva adhikāraḥ te*\n",
        "\n",
        "For the first word, *karmaṇi*,\n",
        "$L_{w} = \\{k, a, r, m, a, \\tiny{\\phantom{n}}^{\\Large n}_{\\Large \\cdot}$$, i\\}$.\n",
        "<br>\n",
        "We see that this word has three vowels, so it contains three syllables: *kar-ma-ṇi*"
      ],
      "metadata": {
        "id": "JOeByk4MOj57"
      }
    },
    {
      "cell_type": "markdown",
      "source": [
        "###Formal approach\n",
        "Finding syllables in a word is not trivial and is not the same as breaking a word into its constituent letters or characters. Basically, there are three rules to identify individual syllables in text:<br>\n",
        " 1. Every syllable should have one and only one vowel (definition of syllable).<br>\n",
        " 2. The syllable tends to start with a consonant wherever possible.<br>\n",
        " 3. The syllable tends to end with a consonant wherever possible.\n",
        "\n",
        " Whenever there is only one consonant between two vowels, it goes with the second vowel; therefore, rule 2 takes precedence over rule 3.\n",
        "\n",
        "We can verify that our syllables *kar-ma-ṇi* follow these three rules:<br>\n",
        " 1. Every syllable has one vowel.<br>\n",
        " Correct: *kar-ma-ṇi*<br>\n",
        " Incorect: *karma-ṇi* (the first part contains two vowels)<br>\n",
        " 2.  Wherever there is a consonant before the vowel, the syllable takes it and therefore starts in a consonant.<br>Correct: *kar-ma-ṇi*\n",
        " <br>Incorrect: *kar-maṇ-i* (here, the syllable *i* would violate the second rule, because it starts with a vowel even when it could start with a consonant)\n",
        " 3. Wherever there are more than one consonants between two vowels, the first vowel takes one of them and therefore ends in a consonant. In our example, the two consonants between vowels are *r* and *m* (*ka<font color=red>rm</font>aṇi*).<br>\n",
        " Correct: *kar-ma-ṇi*<br>\n",
        " Incorrect: *ka-rma-ṇi* (the syllable *ka* ends with a vowel even when it could end with a consonant, violating the third rule)<br><br>\n",
        "\n",
        "We can define the set of all syllables in this word,<br>\n",
        " >$S_w = \\{kar, ma, \\tiny{\\phantom{n}}^{\\Large ni}_{\\Large \\cdot}$$\\}; |S_w|=3$\n",
        "\n",
        " For the other words:<br>\n",
        " >*eva*: $S_w = \\{e, va\\}; |S_w|=2$<br>\n",
        " >*adhikāraḥ*: $S_w = \\{a, dhi, k\\bar{a}, \\tiny{\\phantom{n}}^{\\Large rah}_{\\Large {\\ \\ \\ \\ \\cdot}}$$\\}; |S_w|=4$<br>\n",
        " >*te*: $S_w = \\{te\\}; |S_w|=1$<br>\n",
        " >*saṅgaḥ*: $S_w = \\{sa\\dot{n}, \\tiny{\\phantom{n}}^{\\Large gah}_{\\Large {\\ \\ \\ \\ \\cdot}}$$\\}; |S_w|=2$<br>\n",
        "  >*astu*: $S_w = \\{as,tu\\}; |S_w|=2$<br><br>\n",
        "\n",
        "Please note that although the above approach is sufficient for our purposes, the rules for identifying syllables are more complex and beyond the scope of this notebook."
      ],
      "metadata": {
        "id": "hcPevyDT4nPm"
      }
    },
    {
      "cell_type": "markdown",
      "source": [
        "###Finding syllables using code\n",
        "Let us now write code to get $S_w$ for any given word. These are the steps:\n",
        "1. First we check each element of $L_w$ and keep building a string of letters until we reach a vowel.<br>\n",
        "Taking `'karmaṇi'` as an example, we iterate over $L_{w} = \\{k, a, r, m, a, \\tiny{\\phantom{n}}^{\\Large n}_{\\Large \\cdot}$$, i\\}$, starting with $k$, so our string is `'k'`. The we go to $a$, and our string becomes `'ka'`.\n",
        "2. Once a vowel is reached, we will check the next two letters. If neither of them is a vowel, we add one character to the string and carry on with our method, until we encounter a vowel in the next two letters. If we find a vowel, we stop adding letters to our string and call the existing string a syllable.<br>\n",
        "In this example, we can build the syllable *kar* such that the next syllable still starts with a consonant (recall from above that there are two consonants between vowels in this example: *ka<font color=red>rm</font>aṇi*). After adding *r* to our syllable, we see that the next two letters are *m* and *a*. We stop here, and get our first syllable: `'kar'`.\n",
        "3. We start with a blank string again, checking the remaining letters in $L_w$ and repeat the process to build other syllables. <br>\n",
        "In this way, get our next two syllables, *ma* and *ṇi*."
      ],
      "metadata": {
        "id": "J1usk98pObRp"
      }
    },
    {
      "cell_type": "code",
      "source": [
        "def Sw(word):\n",
        "    \"\"\"\n",
        "    Returns:\n",
        "    list of str: A list of all syllables in the word\n",
        "    \"\"\"\n",
        "    syllable_list = []\n",
        "    S = '' #stores the current syllable as it is being built\n",
        "    nucleus = False #tracks if a vowel has been encountered yet in the current syllable\n",
        "    letters = Lw(word)\n",
        "    for i in range(0,len(letters)):\n",
        "        letter = letters[i]\n",
        "        S = S + letter\n",
        "        if letter in V:\n",
        "            nucleus = True\n",
        "        if nucleus:\n",
        "            next_two_letters = letters[i+1:i+3]\n",
        "            for element in next_two_letters:\n",
        "            # if either of the next two letters is a vowel,\n",
        "            # the current syllable is appended to the list of syllables,\n",
        "            # and the current syllable variable and the vowel tracker are reset\n",
        "                if element in V:\n",
        "                    syllable_list.append(S)\n",
        "                    S = ''\n",
        "                    nucleus = False\n",
        "                    continue\n",
        "    syllable_list.append(S)\n",
        "    return syllable_list\n",
        "\n",
        "print('Syllables in text: ', Sw(text))\n",
        "print('No. of syllables in text: ', len(Sw(text)))"
      ],
      "metadata": {
        "colab": {
          "base_uri": "https://localhost:8080/"
        },
        "id": "PfSZrsGkncAe",
        "outputId": "61c884ae-5973-40b7-f53b-b4f4c8ae6dc7"
      },
      "execution_count": null,
      "outputs": [
        {
          "output_type": "stream",
          "name": "stdout",
          "text": [
            "Syllables in text:  ['pha', 'le', 'ṣu']\n",
            "No. of syllables in tex:  3\n"
          ]
        }
      ]
    },
    {
      "cell_type": "markdown",
      "source": [
        "##Light and Heavy Syllables\n",
        "Each syllable can be identified as either light or heavy, depending on the amount of time it takes to pronounce it. Any syllable that ends in a short vowel is a light syllable, and any syllable that ends in a long vowel or in a consonant is a heavy syllable.<br><br>\n",
        "Here are some examples. <br>\n",
        ">Light syllables:<br>\n",
        "त, कि, ह, पृ, खु, झ, इ, प्र, ध्य<br>\n",
        "ತ, ಕಿ, ಹ, ಪೃ, ಖು, ಝ, ಇ, ಪ್ರ, ಧ್ಯ<br>\n",
        "*ta, ki, ha, pṛ, khu, jha, i, pra, dhya*\n",
        "\n",
        "\n",
        ">Heavy syllables:<br>\n",
        "ई, बा, औ, सै, यो, डू, षे, किम्, हन्, अस्, फो, स्ने, क्रो, स्वा, शून्, ऊर्ध्, श्वा, माम्<br>\n",
        "ಈ, ಬಾ, ಔ, ಸೈ, ಯೋ, ಡೂ, ಷೇ, ಕಿಮ್, ಹನ್, ಅಸ್, ಫೋ, ಸ್ನೇ, ಕ್ರೋ, ಸ್ವಾ, ಶೂನ್, ಊರ್ಧ್, ಶ್ವಾ, ಮಾಮ್<br>\n",
        "*ī, bā, au, sai, yo, ḍū, ṣe, kim, han, as, pho, sne, kro, svā, śūn, ūrdh, śvā, mām*\n",
        "\n",
        "Light syllables are called *laghu*, and heavy syllables are called *guru*. A *guru* requires more time to pronounce, almost double that required to pronounce a *laghu*"
      ],
      "metadata": {
        "id": "WldyaVteeqU7"
      }
    },
    {
      "cell_type": "markdown",
      "source": [
        "###Code to find if a syllable is *laghu* or *guru*\n",
        "To find whether a syllable is *laghu* or *guru*, we just check its final letter. If that is a short vowel, the syllable is *laghu*, else it is *guru*.\n",
        "\n",
        "For a syllable $S$ containing $n$ letters (i.e., $|L_w| = n$), the quality of $S$ is\n",
        "\n",
        "$\\ \\ \\ \\ \\ q(S) = \\begin{cases}\n",
        "laghu & \\text{if } S\\ ends\\ in\\ L_{w_n}\\ {\\in}\\ V_{short} \\\\\n",
        "guru & \\text{otherwise }\n",
        "\\end{cases}$"
      ],
      "metadata": {
        "id": "nbG0EmcBW2lL"
      }
    },
    {
      "cell_type": "code",
      "source": [
        "def quality(S):\n",
        "    \"\"\"\n",
        "    This function takes a syllable and returns its quality 'laghu' or 'guru'.\n",
        "    Returns None for inputs with no vowel or more than one vowels.\n",
        "\n",
        "    Parameters:\n",
        "    S (str): a syllable\n",
        "\n",
        "    Returns:\n",
        "    str: quality of the syllable: 'laghu', 'guru', or None\n",
        "    \"\"\"\n",
        "    if len(Vw(S)) != 1: #checks for the condition that a syllable should have one and only one vowel\n",
        "      return None\n",
        "    wordS = Lw(S)\n",
        "    if wordS[-1] in Vshort:\n",
        "      return 'laghu'\n",
        "    else:\n",
        "      return 'guru'\n",
        "\n",
        "syllable = 'kar' #try with different syllables and check the results\n",
        "print(quality(syllable))"
      ],
      "metadata": {
        "colab": {
          "base_uri": "https://localhost:8080/"
        },
        "id": "z-ldiAVSbVlA",
        "outputId": "ac41a98c-dcb0-471e-ac31-7c75dcd87fc0"
      },
      "execution_count": null,
      "outputs": [
        {
          "output_type": "stream",
          "name": "stdout",
          "text": [
            "guru\n"
          ]
        }
      ]
    },
    {
      "cell_type": "markdown",
      "source": [
        "Experiment with different strings for syllable and see which ones are *laghu* and which ones *guru*."
      ],
      "metadata": {
        "id": "sRDkA5t-mMk-"
      }
    },
    {
      "cell_type": "markdown",
      "source": [
        "###Code for *laghu* and *guru* pattern in a word\n",
        "Let us now write a function that returns `'laghu'` or `'guru'` for each syllable in a word.\n",
        "\n",
        "For example, the syllable set and *mātrā* pattern for the word *kadācana* can be described as:<br>\n",
        "$S_w = \\{ka, d\\bar{a}, ca, na\\}$<br>\n",
        "$P_w = \\{laghu, guru, laghu, laghu\\}$"
      ],
      "metadata": {
        "id": "_zAz9yNxuXH_"
      }
    },
    {
      "cell_type": "code",
      "source": [
        "def matra(word):\n",
        "    \"\"\"\n",
        "    Returns:\n",
        "    list of str: A list that indicates 'laghu' or 'guru' for each syllable in word\n",
        "    \"\"\"\n",
        "    pattern = []\n",
        "    for S in Sw(word):\n",
        "        pattern.append(quality(S))\n",
        "    return pattern\n",
        "\n",
        "text = 'mā phaleṣu kadācana'\n",
        "text = text.replace(\" \", \"\") #to remove spaces\n",
        "print(Sw(text))\n",
        "print(matra(text))"
      ],
      "metadata": {
        "colab": {
          "base_uri": "https://localhost:8080/"
        },
        "id": "gwXg3QQ6l7Du",
        "outputId": "ec7e9adf-3e19-4559-9213-507a818106cb"
      },
      "execution_count": null,
      "outputs": [
        {
          "output_type": "stream",
          "name": "stdout",
          "text": [
            "['mā', 'pha', 'le', 'ṣu', 'ka', 'dā', 'ca', 'na']\n",
            "['guru', 'laghu', 'guru', 'laghu', 'laghu', 'guru', 'laghu', 'laghu']\n"
          ]
        }
      ]
    },
    {
      "cell_type": "markdown",
      "source": [
        "##*Mātrā*\n",
        "A mora (pl. morae) or a *mātrā* is a time unit that measures how long it takes to pronounce a syllable. If a syllable is *laghu*, it has 1 *mātrā* or mora, and a *guru* syllable has 2 *mātrā* or morae.\n",
        "\n",
        "Mathematically, the number of *mātrā*s or morae in a syllable $S$ can be defined as\n",
        "\n",
        "$\\ \\ \\ \\ \\ \\ M(S) = \\begin{cases}\n",
        "1 & \\text{if } q(S) = laghu \\\\\n",
        "2 & \\text{if } q(S) = guru\n",
        "\\end{cases}$\n",
        "\n",
        "\n",
        "We can count the number of *mātrā* or morae in a word by adding up the number of morae in each syllable, which can be described as<br>\n",
        ">$M_w = \\sum_{i=1}^{|S_w|}M(S_{w_i})$\n",
        "\n",
        "For example, given $S_w = \\{ka, d\\bar{a}, ca, na\\}$, we can find its *mātrā* count by adding 1 for each *laghu* and 2 for each *guru* syllable in it:\n",
        ">$M_w = 1 + 2 + 1 + 1 = 5$"
      ],
      "metadata": {
        "id": "qtZ85JjIxQHG"
      }
    },
    {
      "cell_type": "code",
      "source": [
        "def matra_total(word):\n",
        "    \"\"\"\n",
        "    Returns:\n",
        "    int: The count of mātrās in the given phrase, with laghu and guru counted as 1 and 2 mātrās, respectively\n",
        "    \"\"\"\n",
        "    count = 0\n",
        "    for S in matra(word):\n",
        "        if S == 'laghu':\n",
        "            count += 1\n",
        "        if S == 'guru':\n",
        "            count += 2\n",
        "        else:\n",
        "            count += 0\n",
        "    return count\n",
        "\n",
        "text = 'mā phaleṣu kadācana'\n",
        "text = text.replace(\" \", \"\") #to remove spaces\n",
        "print(matra_total(text))"
      ],
      "metadata": {
        "colab": {
          "base_uri": "https://localhost:8080/"
        },
        "id": "YWr4kj7gwWuu",
        "outputId": "cfee196b-c7cd-4761-c3fb-6e5c2b4b612b"
      },
      "execution_count": null,
      "outputs": [
        {
          "output_type": "stream",
          "name": "stdout",
          "text": [
            "11\n"
          ]
        }
      ]
    },
    {
      "cell_type": "markdown",
      "source": [
        "###Symbolic representation of *mātrā*\n",
        "*laghu* and *guru* are usually represented symbolically as । and ऽ, respectively. Thus, the *mātrā* pattern of word *karmaṇi* can be symbolically represented as ऽ।।, which is equivalent to its *mātrā* pattern `['guru', 'laghu', 'laghu']`."
      ],
      "metadata": {
        "id": "bECwJVcz4WlT"
      }
    },
    {
      "cell_type": "code",
      "source": [
        "def matra_to_symbol(matra):\n",
        "    '''\n",
        "    This function takes the mātrā pattern and returns its symbolic representation.\n",
        "\n",
        "    Parameters:\n",
        "    matra (list of str): mātrā pattern for a portion of a word (list of 'laghu' and 'guru')\n",
        "\n",
        "    Returns:\n",
        "    str: symbolic equivalent of the given mātrā, with laghu denoted by '।' and guru by 'ऽ'\n",
        "    '''\n",
        "    symbol = ''\n",
        "    for value in matra:\n",
        "        symbol += ('।' if value == 'laghu' else 'ऽ')\n",
        "    return symbol\n",
        "\n",
        "text = 'mā phaleṣu kadācana'\n",
        "text = text.replace(\" \", \"\") #to remove spaces\n",
        "print(Sw(text))\n",
        "print(matra(text))\n",
        "print(matra_to_symbol(matra(text)))"
      ],
      "metadata": {
        "colab": {
          "base_uri": "https://localhost:8080/"
        },
        "id": "T5PzGUMGcLEl",
        "outputId": "56eed017-644c-48fe-acd6-cd5ed8a4eb84"
      },
      "execution_count": null,
      "outputs": [
        {
          "output_type": "stream",
          "name": "stdout",
          "text": [
            "['mā', 'pha', 'le', 'ṣu', 'ka', 'dā', 'ca', 'na']\n",
            "['guru', 'laghu', 'guru', 'laghu', 'laghu', 'guru', 'laghu', 'laghu']\n",
            "ऽ।ऽ।।ऽ।।\n"
          ]
        }
      ]
    },
    {
      "cell_type": "markdown",
      "source": [
        "##Rhythmic Quality\n",
        "Prosody refers to the patterns of sounds and rhythms in poetry and speech, and the study of such patterns. When we understand what the *mātrā* pattern in a verse is, we can chant it in a rhythmic way and even sing it to a tune. The pattern of syllables in a verse is called its metre, or *chandas* (छन्दस्/ಛನ್ದಸ್).<br>\n",
        "You can think of these patterns of *laghu* and *guru* as patterns of 'da' and 'dum'. If you try to make a beat out of 'da' and 'dum', you get interesting patterns, such as 'dum da da' or 'da dum dum da dum'. Think of the song *Tere bina* from the movie *Guru* (coincidentally), which has this line *dum dara dum dara mast mast*. Here, we can clearly identify the pattern of *laghu* and *guru*.<br>\n",
        ">$S_w=\\{dum, da, ra, dum, da, ra, mas, t(a), mas, t(a), da, ra\\}$\n",
        "\n",
        "And the metric pattern\n",
        ">ऽ।। &ensp; ऽ।। &ensp; ऽ। &ensp; ऽ। &ensp; ।।\n",
        "\n",
        " These prosodic patterns can also be likened to the beeps of Morse code."
      ],
      "metadata": {
        "id": "g8RRzUoImrzF"
      }
    },
    {
      "cell_type": "markdown",
      "source": [
        "##*Chandas*\n",
        "There are numerous metres used in Sanskrit poetry. They are broadly classified as *mātrika* and *vārṇika*."
      ],
      "metadata": {
        "id": "G9w8aVZ17GUL"
      }
    },
    {
      "cell_type": "markdown",
      "source": [
        "###*Mātrika*\n",
        "These are metres that are identified only on the basis of the number of morae or *mātrā* in each line or part. For example, if a part contains 4 morae, it doesn't matter if the syllable pattern is ऽऽ, ऽ।।, ।ऽ।, ।।ऽ, or ।।।।. They all total to $M_w = 4$ morae, and *mātrika* metres don't distinguish between these different patterns. What matters is the total time needed to pronounce a line or part.\n"
      ],
      "metadata": {
        "id": "28PeXYcJmz4x"
      }
    },
    {
      "cell_type": "markdown",
      "source": [
        "###*Vārṇika*\n",
        "These are metres that are identified based on the quality of individual syllables, and the pattern of *laghu* and *guru* syllables."
      ],
      "metadata": {
        "id": "pfWxGvBc7MIQ"
      }
    },
    {
      "cell_type": "markdown",
      "source": [
        "##Metric Patterns and *Gaṇa*s\n",
        "For our sample text,<br>\n",
        ">*karmaṇyevādhikāraste mā phaleṣu kadācana*।<br>\n",
        ">*mā karmaphalaheturbhūrmā te saṅgo'stvakarmaṇi*॥<br>\n",
        "\n",
        "we get the following pattern of *laghu* and *guru*:\n",
        ">ऽऽऽऽ &ensp; ।ऽऽऽ &ensp; ऽ।ऽ। &ensp; ।ऽ।।<br>\n",
        ">ऽऽ।। &ensp; ।ऽऽऽ &ensp; ऽऽऽऽ &ensp; ।ऽ।।\n",
        "\n",
        "To analyse *vārṇika* metres, the standard method is to describe groups of three syllables, called *gaṇa*. Using combinatorics, we know that a total of 8 combinations of *laghu* and *guru* are possible for a group of three syllables. Thus, we have 8 distinct *gaṇa*s:\n",
        ">|*gaṇa*|pattern|\n",
        "|:-|-:|\n",
        "|*ya*|।ऽऽ\n",
        "|*ma*|ऽऽऽ\n",
        "|*ta*|ऽऽ।\n",
        "|*ra*|ऽ।ऽ\n",
        "|*ja*|।ऽ।\n",
        "|*bha*|ऽ।।\n",
        "|*na*|।।।\n",
        "|*sa*|।।ऽ"
      ],
      "metadata": {
        "id": "HVgr2me5OKnF"
      }
    },
    {
      "cell_type": "markdown",
      "source": [
        "###Mnemonic for *gaṇa*s\n",
        "A mnemonic to memorise the names of these *gaṇa*s is: *yamātārājabhānasalagāḥ*. If you remember this word, you can find the metric pattern of a *gaṇa* by looking up the letter corresponding to it. For example, to find *ma* *gaṇa*, we look at the mnemonic and see the letter *mā*. We consider the three consecutive letters *mātārā* (*ya<font color=red>mātārā</font>jabhānasalagāḥ*), and the pattern of these three letters gives us the pattern for the *ma gaṇa* ऽऽऽ. Similarly, the pattern for *ja gaṇa* can be found by considering the three letters starting with *ja*: *jabhāna* (*yamātārā<font color=red>jabhāna</font>salagāḥ*), which gives us the pattern ।ऽ।."
      ],
      "metadata": {
        "id": "FeIDghZgtuiN"
      }
    },
    {
      "cell_type": "markdown",
      "source": [
        "##*Gaṇa* Description\n",
        "We can now rearrange the symbolic representation of our pattern in groups of three, to make the analysis easier:\n",
        ">ऽऽऽ &ensp; ऽ।ऽ &ensp; ऽऽऽ &ensp; ।ऽ। &ensp; ।ऽ। &ensp; ।<br>\n",
        ">ऽऽ। &ensp; ।।ऽ &ensp; ऽऽऽ &ensp; ऽऽऽ &ensp; ।ऽ। &ensp; ।\n",
        "\n",
        "Using the table above, we can now describe this pattern as:\n",
        ">*ma &ensp; ra &ensp; ma &ensp; ja &ensp; ja &ensp; laghu*<br>\n",
        ">*ta &ensp; sa &ensp; ma &ensp; ma &ensp; ja &ensp; laghu*\n",
        "\n"
      ],
      "metadata": {
        "id": "I8nVODaynEh5"
      }
    },
    {
      "cell_type": "markdown",
      "source": [
        "###*Gaṇa* description using code\n",
        "To describe *gaṇa* patterns, we have to first define the table of *gaṇa*s using a python dictionary."
      ],
      "metadata": {
        "id": "aywczfTcrftp"
      }
    },
    {
      "cell_type": "code",
      "source": [
        "gana_dict = {'ya':['laghu', 'guru', 'guru'],\n",
        "             'ma':['guru','guru','guru'],\n",
        "             'ta': ['guru', 'guru', 'laghu'],\n",
        "             'ra': ['guru','laghu','guru'],\n",
        "             'ja': ['laghu', 'guru', 'laghu'],\n",
        "             'bha': ['guru', 'laghu', 'laghu'],\n",
        "             'na': ['laghu', 'laghu', 'laghu'],\n",
        "             'sa': ['laghu', 'laghu', 'guru']}"
      ],
      "metadata": {
        "id": "tl5bPmaeyeUo"
      },
      "execution_count": null,
      "outputs": []
    },
    {
      "cell_type": "markdown",
      "source": [
        "For a given word, we first find its pattern of *laghu* and *guru*, then we take three syllables at a time and look up in the dictionary to find which *gaṇa* it is. For this, we define two functions: The first one just looks up the dictionary and returns the *gaṇa* name for a given pattern of three syllables. The second function takes the full word, finds its pattern of *laghu* and *guru*, and passes three of these at a time to the first function, and returns the sequence of *gaṇa*s."
      ],
      "metadata": {
        "id": "Vu8wGTkE8GRx"
      }
    },
    {
      "cell_type": "code",
      "source": [
        "def matra_to_gana(matra):\n",
        "    '''\n",
        "    This function takes the mātrā pattern of three syllables\n",
        "    and returns its gaṇa.\n",
        "\n",
        "    Parameters:\n",
        "    matra (list of str): mātrā pattern for a portion of a word of three syllables\n",
        "\n",
        "    Returns:\n",
        "    str: gaṇa of the mātrā pattern\n",
        "    '''\n",
        "    for key, value in gana_dict.items():\n",
        "        if value == matra:\n",
        "            return key\n",
        "\n",
        "def gana(word):\n",
        "    \"\"\"\n",
        "    Returns:\n",
        "    list of str: A list that indicates gaṇa for sets of three syllables taken at a time\n",
        "    \"\"\"\n",
        "    matra_list = matra(word)\n",
        "    pattern = []\n",
        "    for i in range(0, len(matra_list), 3):\n",
        "        if len(matra_list[i:i+3]) > 2:\n",
        "            pattern.append(matra_to_gana(matra_list[i:i+3]))\n",
        "        else:\n",
        "            pattern.append(matra_list[i:i+3])\n",
        "    return pattern\n",
        "\n",
        "text = 'karmaṇyevādhikāraste mā phaleṣu kadācana'\n",
        "text = text.replace(\" \", \"\") #to remove spaces\n",
        "print(gana(text))"
      ],
      "metadata": {
        "colab": {
          "base_uri": "https://localhost:8080/"
        },
        "id": "5MPAgRKB7TFn",
        "outputId": "a741bd9f-0941-4166-acb1-a0dde4036a02"
      },
      "execution_count": null,
      "outputs": [
        {
          "output_type": "stream",
          "name": "stdout",
          "text": [
            "['ma', 'ra', 'ma', 'ja', 'ja', ['laghu']]\n"
          ]
        }
      ]
    },
    {
      "cell_type": "markdown",
      "source": [
        "This matches with our manual description above."
      ],
      "metadata": {
        "id": "8NV1kh5MwQD6"
      }
    },
    {
      "cell_type": "markdown",
      "source": [
        "##*Śloka*\n",
        "\n",
        "Perhaps the most ubiquitous of all metres in classical Sanskrit is the śloka. It is characterised as having two lines, each with two parts. Each part has 8 syllables, which means a total of 32 syllables in a *śloka*. The *laghu* and *guru* pattern for this metre is described as:<br>\n",
        ">श्लोके षष्ठं गुरुर्ज्ञेयं सर्वत्र लघु पञ्चमम्।<br>\n",
        ">द्विचतुष्पादयोर्ह्रस्वं सप्तमं दीर्घमन्ययोः॥<br><br>\n",
        ">ಶ್ಲೋಕೇ ಷಷ್ಠಂ ಗುರುರ್ಜ್ಞೇಯಂ ಸರ್ವತ್ರ ಲಘು ಪಞ್ಚಮಮ್।<br>\n",
        ">ದ್ವಿಚತುಷ್ಪಾದಯೋರ್ಹ್ರಸ್ವಂ ಸಪ್ತಮಂ ದೀರ್ಘಮನ್ಯಯೋಃ॥<br><br>\n",
        ">*śloke ṣaṣṭhaṃ gururjñeyaṃ sarvatra laghu pañcamam*।<br>\n",
        ">*dvicatuṣpādayorhrasvaṃ saptamaṃ dīrghamanyayoḥ*॥\n",
        "\n",
        "This translates to: The sixth syllable in a part is always *guru*, and the fifth is *laghu*. In the second and fourth parts, the seventh syllable is *laghu*, whereas it is *guru* in the other two (first and third parts).<br>\n",
        "This essentially means:<br>\n",
        "*guru* syllables: 6, 14, 22, and 30 (sixth syllable in each part), and 7 and 23 (seventh syllable in parts 1 and 3)<br>\n",
        "*laghu* syllables 5, 13, 21, 29 (fifth syllable in each part) and 15 and 31 (seventh syllable in parts 2 and 4)<br>"
      ],
      "metadata": {
        "id": "h96XIUWCwbFs"
      }
    },
    {
      "cell_type": "markdown",
      "source": [
        "###Identifying *śloka* using code\n",
        "Let us write code to identify whether a given verse is in the *śloka* metre or not."
      ],
      "metadata": {
        "id": "sY86sUhMzF3W"
      }
    },
    {
      "cell_type": "code",
      "source": [
        "def is_sloka(verse):\n",
        "    '''\n",
        "    This function takes a string (verse)\n",
        "    and returns True if it is in śloka metre.\n",
        "    Returns False otherwise.\n",
        "\n",
        "    Parameters:\n",
        "    verse (str): verse in IAST\n",
        "\n",
        "    Returns:\n",
        "    bool: True if metre is śloka, False otherwise\n",
        "    '''\n",
        "    matra_list = matra(verse) #find out mātrā pattern\n",
        "    if len(matra_list) != 32:\n",
        "        return False\n",
        "\n",
        "    guru = [6, 7, 14, 22, 23, 30] #define positions of guru in śloka\n",
        "    laghu = [5, 13, 15, 21, 29, 31] #define positions of laghu in śloka\n",
        "    for index in laghu:\n",
        "        if matra_list[index-1] != 'laghu':\n",
        "            return False\n",
        "\n",
        "    for index in guru:\n",
        "        if matra_list[index-1] != 'guru':\n",
        "            return False\n",
        "\n",
        "    return True\n",
        "\n",
        "text = \"karmaṇyevādhikāraste mā phaleṣu kadācana mā karmaphalaheturbhūrmā te saṅgo'stvakarmaṇi\"\n",
        "text = text.replace(\" \", \"\") #to remove spaces\n",
        "print(matra_to_symbol(matra(text)))\n",
        "print(is_sloka(text))"
      ],
      "metadata": {
        "colab": {
          "base_uri": "https://localhost:8080/"
        },
        "id": "znSf44fOwFvr",
        "outputId": "797ded3d-921d-4c0d-ebc9-8974e1765581"
      },
      "execution_count": null,
      "outputs": [
        {
          "output_type": "stream",
          "name": "stdout",
          "text": [
            "ऽऽऽऽ।ऽऽऽऽ।ऽ।।ऽ।।ऽऽ।।।ऽऽऽऽऽऽऽ।ऽ।।\n",
            "True\n"
          ]
        }
      ]
    },
    {
      "cell_type": "markdown",
      "source": [
        "##Using Classes and Objects\n",
        "The above analysis can be performed using python objects. Let us rewrite all functions in this new approach."
      ],
      "metadata": {
        "id": "gHl-fDum0wo7"
      }
    },
    {
      "cell_type": "markdown",
      "source": [
        "###Defining letters and *gaṇa*s\n",
        "First, we will define all the lists and dictionaries."
      ],
      "metadata": {
        "id": "JgcejhCX4q25"
      }
    },
    {
      "cell_type": "code",
      "source": [
        "#list of all letters in IAST\n",
        "L = ['a', 'ā', 'i', 'ī', 'u', 'ū', 'ṛ', 'ṝ', 'ḷ', 'e', 'ai', 'o', 'au','k', 'kh', 'g', 'gh', 'ṅ', 'c', 'ch', 'j', 'jh', 'ñ', 'ṭ', 'ṭh', 'ḍ', 'ḍh', 'ṇ', 't', 'th', 'd', 'dh', 'n', 'p', 'ph', 'b', 'bh', 'm', 'y', 'r', 'l', 'v', 'ś', 'ṣ', 's', 'h','ṃ', 'ḥ']\n",
        "#list of all consonants; anusvāra and visarga included in consonants for metrical analysis\n",
        "C = ['k', 'kh', 'g', 'gh', 'ṅ', 'c', 'ch', 'j', 'jh', 'ñ', 'ṭ', 'ṭh', 'ḍ', 'ḍh', 'ṇ', 't', 'th', 'd', 'dh', 'n', 'p', 'ph', 'b', 'bh', 'm', 'y', 'r', 'l', 'v', 'ś', 'ṣ', 's', 'h','ṃ', 'ḥ']\n",
        "#list of all vowels\n",
        "V = ['a', 'ā', 'i', 'ī', 'u', 'ū', 'ṛ', 'ṝ', 'ḷ', 'e', 'ai', 'o', 'au']\n",
        "#list of short vowels\n",
        "Vshort = ['a', 'i', 'u', 'ṛ', 'ḷ']\n",
        "#list of long vowels\n",
        "Vlong = ['ā', 'ī', 'ū', 'ṝ', 'e', 'ai', 'o', 'au']\n",
        "#defining gaṇas\n",
        "gana_dict = {'ya':['laghu', 'guru', 'guru'], 'ma':['guru','guru','guru'], 'ta': ['guru', 'guru', 'laghu'], 'ra': ['guru','laghu','guru'], 'ja': ['laghu', 'guru', 'laghu'], 'bha': ['guru', 'laghu', 'laghu'], 'na': ['laghu', 'laghu', 'laghu'], 'sa': ['laghu', 'laghu', 'guru']}\n"
      ],
      "metadata": {
        "id": "yOzipfMD1avH"
      },
      "execution_count": null,
      "outputs": []
    },
    {
      "cell_type": "markdown",
      "source": [
        "###Defining a class for word and all its associated methods\n",
        "\n",
        "We will define methods to find out<br>\n",
        "- the set of all letters in the word, $L_w$\n",
        "- the number of letters in the word, $|L_w|$\n",
        "- the set of all vowels in the word, $V_w$\n",
        "- the set of short vowels in the word, $V_{short_{w}}$<br>\n",
        "- the set of long vowels in the word, $V_{long_w}$<br>\n",
        "- the set of consonants in the word, $C_w$<br>\n",
        "- the set of all syllables in the word, $S_w$<br>\n",
        "- the number of syllables in the word, $|S_w|$<br>\n",
        "- the *mātrā* pattern of the word, $P_w$<br>\n",
        "- the *mātrā* total (no. of morae) of the word, $M_w$<br>\n",
        "- the symbolic representation of $Pw$<br>\n",
        "- the *gaṇa* pattern of the word"
      ],
      "metadata": {
        "id": "dzd6nJ-d1dPB"
      }
    },
    {
      "cell_type": "code",
      "source": [
        "class IASTWord:\n",
        "    \"\"\"\n",
        "    A class representing a word or a phrase in IAST\n",
        "\n",
        "    Attributes:\n",
        "    word (str): The given phrase\n",
        "    \"\"\"\n",
        "    def __init__(self, word):\n",
        "        \"\"\"\n",
        "        Initializes a new instance of the IASTWord class\n",
        "\n",
        "        Parameters:\n",
        "        phrase (str): The given phrase, as it is\n",
        "        word (str): The given phrase without spaces, punctuation, or any character except those in L\n",
        "        len (int): The number of (extended) Roman letters in the given phrase\n",
        "        \"\"\"\n",
        "        self.phrase = word\n",
        "        self.word = ''.join(char for char in word if char in L)\n",
        "        self.len = len(self.word)\n",
        "\n",
        "    def Lw(self):\n",
        "        \"\"\"\n",
        "        Returns:\n",
        "        list of str: A list of all IAST letters in the word\n",
        "        \"\"\"\n",
        "        letter_list = []\n",
        "        couple = False #tracks if the set of two characters form an IAST letter\n",
        "        for i in range(0, self.len-1):\n",
        "            if couple:\n",
        "                couple = False\n",
        "                continue\n",
        "            two_letters = self.word[i:i+2]\n",
        "            couple = str(two_letters) in L\n",
        "            if couple:\n",
        "                letter_list.append(two_letters)\n",
        "            else:\n",
        "                if two_letters[0] not in L:\n",
        "                    print('The letter ' + str(two_letters[0]) + ' is not an IAST letter. This may affect the accuracy of this analysis')\n",
        "                letter_list.append(two_letters[0])\n",
        "        if couple:\n",
        "            return letter_list\n",
        "        else:\n",
        "            if self.word[-1] not in L:\n",
        "                    print('The letter ' + str(self.word[-1]) + ' is not an IAST letter. This may affect the accuracy of this analysis')\n",
        "            letter_list.append(self.word[-1])\n",
        "            return letter_list\n",
        "\n",
        "    def length(self):\n",
        "        return len(self.Lw())\n",
        "\n",
        "    def Vw(self):\n",
        "        \"\"\"\n",
        "        Returns:\n",
        "        list of str: A list of all IAST vowels in the word\n",
        "        \"\"\"\n",
        "        vowel_list = []\n",
        "        for letter in self.Lw():\n",
        "            if letter in V:\n",
        "              vowel_list.append(letter)\n",
        "        return vowel_list\n",
        "\n",
        "    def Vshortw(self):\n",
        "        \"\"\"\n",
        "        Returns:\n",
        "        list of str: A list of all short vowels in the word\n",
        "        \"\"\"\n",
        "        Vshort_list = []\n",
        "        for letter in self.Lw():\n",
        "            if letter in Vshort:\n",
        "              Vshort_list.append(letter)\n",
        "        return Vshort_list\n",
        "\n",
        "    def Vlongw(self):\n",
        "        \"\"\"\n",
        "        Returns:\n",
        "        list of str: A list of all long vowels in the word\n",
        "        \"\"\"\n",
        "        Vlong_list = []\n",
        "        for letter in self.Lw():\n",
        "            if letter in Vlong:\n",
        "              Vlong_list.append(letter)\n",
        "        return Vlong_list\n",
        "\n",
        "    def Cw(self):\n",
        "        \"\"\"\n",
        "        Returns:\n",
        "        list of str: A list of all consonants in the word\n",
        "        \"\"\"\n",
        "        consonant_list = []\n",
        "        for letter in self.Lw():\n",
        "            if letter in C:\n",
        "              consonant_list.append(letter)\n",
        "        return consonant_list\n",
        "\n",
        "    def Sw(self):\n",
        "        \"\"\"\n",
        "        Returns:\n",
        "        list of str: A list of all syllables in the word\n",
        "        \"\"\"\n",
        "        syllable_list = []\n",
        "        S = '' #stores the current syllable as it is being built\n",
        "        nucleus = False\n",
        "        letters = self.Lw()\n",
        "        for i in range(0,len(letters)):\n",
        "            letter = letters[i]\n",
        "            S = S + letter\n",
        "            if letter in V:\n",
        "                nucleus = True #tracks if a vowel has been encountered yet in the current syllable\n",
        "            if nucleus:\n",
        "                next_two_letters = letters[i+1:i+3]\n",
        "                for element in next_two_letters:\n",
        "                # if either of the next two letters is a vowel,\n",
        "                # the current syllable is appended to the list of syllables,\n",
        "                # and the current syllable variable and the vowel tracker are reset\n",
        "                    if element in V:\n",
        "                      syllable_list.append(S)\n",
        "                      S = ''\n",
        "                      nucleus = False\n",
        "                      continue\n",
        "        syllable_list.append(S)\n",
        "        return syllable_list\n",
        "\n",
        "    def num_syl(self):\n",
        "        return len(self.Sw())\n",
        "\n",
        "    def matra(self):\n",
        "        \"\"\"\n",
        "        Returns:\n",
        "        list of str: A list that indicates 'laghu' or 'guru' for each syllable in word\n",
        "        \"\"\"\n",
        "        pattern = []\n",
        "        for S in self.Sw():\n",
        "            pattern.append(quality(S)) #quality(S) defined later\n",
        "        return pattern\n",
        "\n",
        "    def matra_total(self):\n",
        "        \"\"\"\n",
        "        Returns:\n",
        "        int: The count of mātrās in the given phrase, with laghu and guru counted as 1 and 2 mātrās, respectively\n",
        "        \"\"\"\n",
        "        count = 0\n",
        "        for S in self.matra():\n",
        "            if S == 'laghu':\n",
        "                count += 1\n",
        "            if S == 'guru':\n",
        "                count += 2\n",
        "            else:\n",
        "                count += 0\n",
        "        return count\n",
        "\n",
        "    def matra_symbolic(self):\n",
        "        \"\"\"\n",
        "        Returns:\n",
        "        str: Symbolic representation of mātrās, with laghu denoted by '।' and guru by 'ऽ', and each group of 3 symbols separated by a space\n",
        "        \"\"\"\n",
        "        matra_list = self.matra()\n",
        "        pattern = ''\n",
        "        for i in range(0, len(matra_list), 3):\n",
        "                pattern = pattern + (matra_to_symbol(matra_list[i:i+3])) + ' '\n",
        "        pattern = pattern[:-1]\n",
        "        return pattern\n",
        "\n",
        "    def gana(self):\n",
        "        \"\"\"\n",
        "        Returns:\n",
        "        list of str: A list that indicates gaṇa for sets of three syllables taken at a time\n",
        "        If one or two syllables are left at the end, a list of their quality ('laghu' or 'guru') is included in the gaṇa list at the end\n",
        "        \"\"\"\n",
        "        matra_list = self.matra()\n",
        "        pattern = []\n",
        "        for i in range(0, len(matra_list), 3):\n",
        "            if len(matra_list[i:i+3]) > 2:\n",
        "                pattern.append(matra_to_gana(matra_list[i:i+3]))\n",
        "            else:\n",
        "                pattern.append(matra_list[i:i+3])\n",
        "        return pattern\n",
        "\n",
        "\n"
      ],
      "metadata": {
        "id": "zYWX6Bgd0Htr"
      },
      "execution_count": null,
      "outputs": []
    },
    {
      "cell_type": "markdown",
      "source": [
        "###Defining all other functions\n",
        "\n",
        "Here, we will define functions for\n",
        "- the quality of a syllable (*laghu* or *guru*), $q(S)$\n",
        "- the *gaṇa* of a triplet of syllables\n",
        "- the symbolic representation of quality of syllables\n",
        "- identifying if a given text is in the *śloka* metre"
      ],
      "metadata": {
        "id": "vsPwq7Q92hww"
      }
    },
    {
      "cell_type": "code",
      "source": [
        "def quality(S):\n",
        "    \"\"\"\n",
        "    This function takes a syllable and returns its quality 'laghu' or 'guru'.\n",
        "    Returns None for inputs with no vowel or more than one vowels.\n",
        "\n",
        "    Parameters:\n",
        "    S (str): a syllable\n",
        "\n",
        "    Returns:\n",
        "    str: quality of the syllable: 'laghu', 'guru', or None\n",
        "    \"\"\"\n",
        "    syllable = IASTWord(S)\n",
        "    if len(syllable.Vw()) != 1: #checks for the condition that a syllable should have one and only one vowel\n",
        "      return None\n",
        "    wordS = syllable.Lw()\n",
        "    if wordS[-1] in Vshort:\n",
        "      return 'laghu'\n",
        "    else:\n",
        "      return 'guru'\n",
        "\n",
        "def matra_to_gana(matra):\n",
        "    '''\n",
        "    This function takes the mātrā pattern of three syllables\n",
        "    and returns its gaṇa.\n",
        "    Returns None for inputs with less than or more than three mātrās.\n",
        "\n",
        "    Parameters:\n",
        "    matra (list of str): mātrā pattern for a portion of a word of three syllables\n",
        "\n",
        "    Returns:\n",
        "    str: gaṇa of the mātrā pattern\n",
        "    '''\n",
        "    if len(matra) != 3: #a gaṇa is defined for a set of three syllables, so any length of words passed to this function other than 3 will return None\n",
        "        return None\n",
        "    else:\n",
        "        for key, value in gana_dict.items():\n",
        "            if value == matra:\n",
        "                return key\n",
        "\n",
        "def matra_to_symbol(matra):\n",
        "    '''\n",
        "    This function takes the mātrā pattern and returns its symbolic representation.\n",
        "\n",
        "    Parameters:\n",
        "    matra (list of str): mātrā pattern for a portion of a word (list of 'laghu' and 'guru')\n",
        "\n",
        "    Returns:\n",
        "    str: symbolic equivalent of the given mātrā, with laghu denoted by '।' and guru by 'ऽ'\n",
        "    '''\n",
        "    symbol = ''\n",
        "    for value in matra:\n",
        "        symbol += ('।' if value == 'laghu' else 'ऽ')\n",
        "    return symbol\n",
        "\n",
        "def is_sloka(verse):\n",
        "    '''\n",
        "    This function takes a string (verse)\n",
        "    and returns True if it is in śloka metre.\n",
        "    Returns False otherwise.\n",
        "\n",
        "    Parameters:\n",
        "    verse (str): verse in IAST\n",
        "\n",
        "    Returns:\n",
        "    bool: True if metre is śloka, False otherwise\n",
        "    '''\n",
        "    word = IASTWord(verse)\n",
        "    matra = word.matra()\n",
        "    if len(matra) != 32:\n",
        "        return False\n",
        "    guru = [6, 7, 14, 22, 23, 30]\n",
        "    laghu = [5, 13, 15, 21, 29, 31]\n",
        "    for index in laghu:\n",
        "        if matra[index-1] != 'laghu':\n",
        "            return False\n",
        "\n",
        "    for index in guru:\n",
        "        if matra[index-1] != 'guru':\n",
        "            return False\n",
        "\n",
        "    return True"
      ],
      "metadata": {
        "id": "4CILPtAG2g7N"
      },
      "execution_count": null,
      "outputs": []
    },
    {
      "cell_type": "markdown",
      "source": [
        "###Analysis function\n",
        "\n",
        "This function specifies what elements to include in analysis and returns the analysis in a more readable format. We will pass our text to this function to analyse sample texts, instead of calling individual functions and methods from above."
      ],
      "metadata": {
        "id": "G6SvfLK82wmh"
      }
    },
    {
      "cell_type": "code",
      "source": [
        "def analyse(phrase):\n",
        "    word1 = IASTWord(phrase)\n",
        "    print('Given phrase: ' + word1.phrase)\n",
        "    print('This word contains ' + str(word1.len) + ' Roman letters')\n",
        "    print('All letters, Lw: ' + (\", \".join(word1.Lw())))\n",
        "    print('No. of letters: ' + str(word1.length()))\n",
        "    print('All vowels, Vw: ' + (\", \".join(word1.Vw())))\n",
        "    print('All consonants, Cw: ' + (\", \".join(word1.Cw())))\n",
        "    print('Short vowels, Vshortw: ' + (\", \".join(word1.Vshortw())))\n",
        "    print('Long vowels, Vlongw: ' + (\", \".join(word1.Vlongw())))\n",
        "    print('Syllables, Sw: ' + (\"-\".join(word1.Sw())))\n",
        "    print('Number of syllables: ' + str(word1.num_syl()))\n",
        "    print('Mātrā pattern: ' + (\", \".join(word1.matra())))\n",
        "    print('Mātrā pattern (symbolic): ' + word1.matra_symbolic())\n",
        "    print('Mātrā total: ' + str(word1.matra_total()))\n",
        "    print('Gaṇa pattern:', end=' ')\n",
        "    for item in word1.gana():\n",
        "        if isinstance(item, str):\n",
        "            print(item, end=' ')\n",
        "        elif isinstance(item, list):\n",
        "            print((\" \".join(item)))\n",
        "    print('The given text is in śloka metre.' if is_sloka(phrase) else 'The given text is not in śloka metre.')\n"
      ],
      "metadata": {
        "id": "UwwHL5w52wF8"
      },
      "execution_count": null,
      "outputs": []
    },
    {
      "cell_type": "markdown",
      "source": [
        "###Analysing text"
      ],
      "metadata": {
        "id": "rboYF2Qq27Ga"
      }
    },
    {
      "cell_type": "markdown",
      "source": [
        "####Example 1"
      ],
      "metadata": {
        "id": "PdtWF6Tu3XdG"
      }
    },
    {
      "cell_type": "code",
      "source": [
        "text1 = \"karmaṇyevādhikāraste mā phaleṣu kadācana। mā karmaphalaheturbhūrmā te saṅgo'stvakarmaṇi॥\"\n",
        "analyse(text1)"
      ],
      "metadata": {
        "colab": {
          "base_uri": "https://localhost:8080/"
        },
        "id": "fiVzr5ga26Mm",
        "outputId": "a9b51b33-c6b4-4ecb-c0a6-e92d270c6fe9"
      },
      "execution_count": null,
      "outputs": [
        {
          "output_type": "stream",
          "name": "stdout",
          "text": [
            "Given phrase: karmaṇyevādhikāraste mā phaleṣu kadācana। mā karmaphalaheturbhūrmā te saṅgo'stvakarmaṇi॥\n",
            "This word contains 78 Roman letters\n",
            "All letters, Lw: k, a, r, m, a, ṇ, y, e, v, ā, dh, i, k, ā, r, a, s, t, e, m, ā, ph, a, l, e, ṣ, u, k, a, d, ā, c, a, n, a, m, ā, k, a, r, m, a, ph, a, l, a, h, e, t, u, r, bh, ū, r, m, ā, t, e, s, a, ṅ, g, o, s, t, v, a, k, a, r, m, a, ṇ, i\n",
            "No. of letters: 74\n",
            "All vowels, Vw: a, a, e, ā, i, ā, a, e, ā, a, e, u, a, ā, a, a, ā, a, a, a, a, e, u, ū, ā, e, a, o, a, a, a, i\n",
            "All consonants, Cw: k, r, m, ṇ, y, v, dh, k, r, s, t, m, ph, l, ṣ, k, d, c, n, m, k, r, m, ph, l, h, t, r, bh, r, m, t, s, ṅ, g, s, t, v, k, r, m, ṇ\n",
            "Short vowels, Vshortw: a, a, i, a, a, u, a, a, a, a, a, a, a, u, a, a, a, a, i\n",
            "Long vowels, Vlongw: e, ā, ā, e, ā, e, ā, ā, e, ū, ā, e, o\n",
            "Syllables, Sw: kar-maṇ-ye-vā-dhi-kā-ras-te-mā-pha-le-ṣu-ka-dā-ca-na-mā-kar-ma-pha-la-he-tur-bhūr-mā-te-saṅ-gost-va-kar-ma-ṇi\n",
            "Number of syllables: 32\n",
            "Mātrā pattern: guru, guru, guru, guru, laghu, guru, guru, guru, guru, laghu, guru, laghu, laghu, guru, laghu, laghu, guru, guru, laghu, laghu, laghu, guru, guru, guru, guru, guru, guru, guru, laghu, guru, laghu, laghu\n",
            "Mātrā pattern (symbolic): ऽऽऽ ऽ।ऽ ऽऽऽ ।ऽ। ।ऽ। ।ऽऽ ।।। ऽऽऽ ऽऽऽ ऽ।ऽ ।।\n",
            "Mātrā total: 52\n",
            "Gaṇa pattern: ma ra ma ja ja ya na ma ma ra laghu laghu\n",
            "The given text is in śloka metre.\n"
          ]
        }
      ]
    },
    {
      "cell_type": "markdown",
      "source": [
        "####Example 2"
      ],
      "metadata": {
        "id": "AyZne2_o3bpT"
      }
    },
    {
      "cell_type": "code",
      "source": [
        "text2 = \"lakṣmīnṛsiṃha mama dehi karāvalambam\"\n",
        "analyse(text2)"
      ],
      "metadata": {
        "colab": {
          "base_uri": "https://localhost:8080/"
        },
        "id": "NbaIFIWo3dZp",
        "outputId": "446d1bc1-67c1-42e8-9a89-be82727bb6ba"
      },
      "execution_count": null,
      "outputs": [
        {
          "output_type": "stream",
          "name": "stdout",
          "text": [
            "Given phrase: lakṣmīnṛsiṃha mama dehi karāvalambam\n",
            "This word contains 33 Roman letters\n",
            "All letters, Lw: l, a, k, ṣ, m, ī, n, ṛ, s, i, ṃ, h, a, m, a, m, a, d, e, h, i, k, a, r, ā, v, a, l, a, m, b, a, m\n",
            "No. of letters: 33\n",
            "All vowels, Vw: a, ī, ṛ, i, a, a, a, e, i, a, ā, a, a, a\n",
            "All consonants, Cw: l, k, ṣ, m, n, s, ṃ, h, m, m, d, h, k, r, v, l, m, b, m\n",
            "Short vowels, Vshortw: a, ṛ, i, a, a, a, i, a, a, a, a\n",
            "Long vowels, Vlongw: ī, e, ā\n",
            "Syllables, Sw: lakṣ-mī-nṛ-siṃ-ha-ma-ma-de-hi-ka-rā-va-lam-bam\n",
            "Number of syllables: 14\n",
            "Mātrā pattern: guru, guru, laghu, guru, laghu, laghu, laghu, guru, laghu, laghu, guru, laghu, guru, guru\n",
            "Mātrā pattern (symbolic): ऽऽ। ऽ।। ।ऽ। ।ऽ। ऽऽ\n",
            "Mātrā total: 21\n",
            "Gaṇa pattern: ta bha ja ja guru guru\n",
            "The given text is not in śloka metre.\n"
          ]
        }
      ]
    },
    {
      "cell_type": "markdown",
      "source": [
        "####Example 3"
      ],
      "metadata": {
        "id": "W__1HLah3tyy"
      }
    },
    {
      "cell_type": "code",
      "source": [
        "text3 = \"śloke ṣaṣṭhaṃ gururjñeyaṃ sarvatra laghu pañcamam। dvicatuṣpādayorhrasvaṃ saptamaṃ dīrghamanyayoḥ॥\"\n",
        "analyse(text3)"
      ],
      "metadata": {
        "colab": {
          "base_uri": "https://localhost:8080/"
        },
        "id": "N9zDHf9_3JCw",
        "outputId": "4313a263-7ac3-434c-a00e-0c0e2e02fa41"
      },
      "execution_count": null,
      "outputs": [
        {
          "output_type": "stream",
          "name": "stdout",
          "text": [
            "Given phrase: śloke ṣaṣṭhaṃ gururjñeyaṃ sarvatra laghu pañcamam। dvicatuṣpādayorhrasvaṃ saptamaṃ dīrghamanyayoḥ॥\n",
            "This word contains 88 Roman letters\n",
            "All letters, Lw: ś, l, o, k, e, ṣ, a, ṣ, ṭh, a, ṃ, g, u, r, u, r, j, ñ, e, y, a, ṃ, s, a, r, v, a, t, r, a, l, a, gh, u, p, a, ñ, c, a, m, a, m, d, v, i, c, a, t, u, ṣ, p, ā, d, a, y, o, r, h, r, a, s, v, a, ṃ, s, a, p, t, a, m, a, ṃ, d, ī, r, gh, a, m, a, n, y, a, y, o, ḥ\n",
            "No. of letters: 85\n",
            "All vowels, Vw: o, e, a, a, u, u, e, a, a, a, a, a, u, a, a, a, i, a, u, ā, a, o, a, a, a, a, a, ī, a, a, a, o\n",
            "All consonants, Cw: ś, l, k, ṣ, ṣ, ṭh, ṃ, g, r, r, j, ñ, y, ṃ, s, r, v, t, r, l, gh, p, ñ, c, m, m, d, v, c, t, ṣ, p, d, y, r, h, r, s, v, ṃ, s, p, t, m, ṃ, d, r, gh, m, n, y, y, ḥ\n",
            "Short vowels, Vshortw: a, a, u, u, a, a, a, a, a, u, a, a, a, i, a, u, a, a, a, a, a, a, a, a, a\n",
            "Long vowels, Vlongw: o, e, e, ā, o, ī, o\n",
            "Syllables, Sw: ślo-ke-ṣaṣ-ṭhaṃ-gu-rurj-ñe-yaṃ-sar-vat-ra-la-ghu-pañ-ca-mamd-vi-ca-tuṣ-pā-da-yorh-ras-vaṃ-sap-ta-maṃ-dīr-gha-man-ya-yoḥ\n",
            "Number of syllables: 32\n",
            "Mātrā pattern: guru, guru, guru, guru, laghu, guru, guru, guru, guru, guru, laghu, laghu, laghu, guru, laghu, guru, laghu, laghu, guru, guru, laghu, guru, guru, guru, guru, laghu, guru, guru, laghu, guru, laghu, guru\n",
            "Mātrā pattern (symbolic): ऽऽऽ ऽ।ऽ ऽऽऽ ऽ।। ।ऽ। ऽ।। ऽऽ। ऽऽऽ ऽ।ऽ ऽ।ऽ ।ऽ\n",
            "Mātrā total: 53\n",
            "Gaṇa pattern: ma ra ma bha ja bha ta ma ra ra laghu guru\n",
            "The given text is in śloka metre.\n"
          ]
        }
      ]
    },
    {
      "cell_type": "markdown",
      "source": [
        "####Example 4"
      ],
      "metadata": {
        "id": "OySOqbck3zwy"
      }
    },
    {
      "cell_type": "code",
      "source": [
        "text4 = 'yamātārājabhānasalagāḥ'\n",
        "analyse(text4)"
      ],
      "metadata": {
        "colab": {
          "base_uri": "https://localhost:8080/"
        },
        "id": "A9mKdQtW3V4P",
        "outputId": "c6781be6-bcb4-4479-905c-cfeef95add6c"
      },
      "execution_count": null,
      "outputs": [
        {
          "output_type": "stream",
          "name": "stdout",
          "text": [
            "Given phrase: yamātārājabhānasalagāḥ\n",
            "This word contains 22 Roman letters\n",
            "All letters, Lw: y, a, m, ā, t, ā, r, ā, j, a, bh, ā, n, a, s, a, l, a, g, ā, ḥ\n",
            "No. of letters: 21\n",
            "All vowels, Vw: a, ā, ā, ā, a, ā, a, a, a, ā\n",
            "All consonants, Cw: y, m, t, r, j, bh, n, s, l, g, ḥ\n",
            "Short vowels, Vshortw: a, a, a, a, a\n",
            "Long vowels, Vlongw: ā, ā, ā, ā, ā\n",
            "Syllables, Sw: ya-mā-tā-rā-ja-bhā-na-sa-la-gāḥ\n",
            "Number of syllables: 10\n",
            "Mātrā pattern: laghu, guru, guru, guru, laghu, guru, laghu, laghu, laghu, guru\n",
            "Mātrā pattern (symbolic): ।ऽऽ ऽ।ऽ ।।। ऽ\n",
            "Mātrā total: 15\n",
            "Gaṇa pattern: ya ra na guru\n",
            "The given text is not in śloka metre.\n"
          ]
        }
      ]
    },
    {
      "cell_type": "code",
      "source": [],
      "metadata": {
        "id": "fn0vhn2G3-2z"
      },
      "execution_count": null,
      "outputs": []
    }
  ]
}